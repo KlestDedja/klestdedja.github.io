{
 "cells": [
  {
   "cell_type": "code",
   "execution_count": null,
   "id": "e2696ff8-1562-418e-be87-f84de6d8bc6e",
   "metadata": {},
   "outputs": [
    {
     "name": "stdout",
     "output_type": "stream",
     "text": [
      "Saved favicon to C:\\Users\\KlestDedja\\Documents\\GitHub\\klestdedja.github.io\\images\\Smile_icon.ico\n"
     ]
    }
   ],
   "source": [
    "from pathlib import Path\n",
    "from PIL import Image\n",
    "\n",
    "# Base paths (use raw string once; Path handles the rest)\n",
    "base = Path(r\"C:\\Users\\KlestDedja\\Documents\\GitHub\\klestdedja.github.io\\images\")\n",
    "png_path = base / \"Chrysippus_smile.png\"\n",
    "ico_path = base / \"Smile_icon.ico\"\n",
    "ico_path2 = base / \"Smile_icon_smooth.ico\"\n",
    "\n",
    "\n",
    "img = Image.open(png_path).convert(\"RGBA\")  # keep transparency\n",
    "\n",
    "# Save as .ico with multiple sizes embedded\n",
    "img.save(\n",
    "    ico_path,\n",
    "    format=\"ICO\",\n",
    "    sizes=[(16,16),\n",
    "           (32,32),\n",
    "           (64,64),\n",
    "           (128,128),\n",
    "           (256,256)]\n",
    ")\n",
    "print(f\"Saved favicon to {ico_path}\")\n"
   ]
  },
  {
   "cell_type": "code",
   "execution_count": null,
   "id": "ec541edf-18d2-4d7c-8285-8103ec10f5b0",
   "metadata": {},
   "outputs": [
    {
     "name": "stdout",
     "output_type": "stream",
     "text": [
      "Saved favicon to C:\\Users\\KlestDedja\\Documents\\GitHub\\klestdedja.github.io\\images\\Smile_icon.ico\n"
     ]
    }
   ],
   "source": [
    "from PIL import Image, ImageDraw\n",
    "\n",
    "size = min(img.size)\n",
    "img = img.resize((size, size), Image.LANCZOS)\n",
    "\n",
    "# Create mask\n",
    "mask = Image.new(\"L\", (size, size), 0)\n",
    "draw = ImageDraw.Draw(mask)\n",
    "\n",
    "# Circle a bit larger than square\n",
    "padding = -int(size * 0.1)  # tweak this factor ( in relative size\n",
    "draw.ellipse((padding, padding, size - padding, size - padding), fill=255)\n",
    "\n",
    "# Apply mask\n",
    "circular_img = Image.new(\"RGBA\", (size, size), (0, 0, 0, 0))\n",
    "circular_img.paste(img, (0, 0), mask=mask)\n",
    "\n",
    "# Save as .ico with multiple sizes embedded\n",
    "img.save(\n",
    "    ico_path2,\n",
    "    format=\"ICO\",\n",
    "    sizes=[(16,16),\n",
    "           (32,32),\n",
    "           (64,64),\n",
    "           (128,128),\n",
    "           (256,256)]\n",
    ")\n",
    "print(f\"Saved favicon to {ico_path}\")\n"
   ]
  }
 ],
 "metadata": {
  "kernelspec": {
   "display_name": "Python 3 (ipykernel)",
   "language": "python",
   "name": "python3"
  },
  "language_info": {
   "codemirror_mode": {
    "name": "ipython",
    "version": 3
   },
   "file_extension": ".py",
   "mimetype": "text/x-python",
   "name": "python",
   "nbconvert_exporter": "python",
   "pygments_lexer": "ipython3",
   "version": "3.12.7"
  }
 },
 "nbformat": 4,
 "nbformat_minor": 5
}
